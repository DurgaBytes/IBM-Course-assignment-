{
 "cells": [
  {
   "cell_type": "markdown",
   "id": "c0751c55-7518-4652-bcb5-7d187e85dc8b",
   "metadata": {},
   "source": [
    "# Data Science Tools and Ecosystem"
   ]
  },
  {
   "cell_type": "markdown",
   "id": "28f8a25a-d577-4c2d-a231-73af1f8c1ffc",
   "metadata": {},
   "source": [
    "In this notebook, Data Science Tools and Ecosystem are summarized."
   ]
  },
  {
   "cell_type": "markdown",
   "id": "a65a849b-d1cd-424f-8d9d-d99bb92527a9",
   "metadata": {},
   "source": [
    "**Objectives:**\n",
    "\n",
    "- Understand basic arithmetic expressions.\n",
    "- Learn popular languages for Data Science, including Python, R, and SQL.\n",
    "- Explore various data science tools and libraries.\n",
    "- Practice using Jupyter Notebooks for data analysis.\n",
    "- Convert units and perform simple conversions in Python."
   ]
  },
  {
   "cell_type": "markdown",
   "id": "a6a36d5e-0222-4d68-b1f7-58692584a840",
   "metadata": {},
   "source": [
    "Some of the popular languages that Data Scientists use are:\n",
    "1. Python\n",
    "2. R\n",
    "3. Java"
   ]
  },
  {
   "cell_type": "markdown",
   "id": "5767e338-8414-4137-a04c-146fc659d636",
   "metadata": {},
   "source": [
    "Some of the commonly used libraries used by Data Scientists include:\n",
    "1. NumPy\n",
    "2. Pandas\n",
    "3. Matplotlib"
   ]
  },
  {
   "cell_type": "markdown",
   "id": "9208d9d7-44af-44f3-807a-3e8854e0e4a5",
   "metadata": {},
   "source": [
    "| Data Science Tools |\n",
    "|--------------------|\n",
    "| Jupyter Notebook   |\n",
    "| RStudio            |\n",
    "| Apache Spark       |"
   ]
  },
  {
   "cell_type": "markdown",
   "id": "efc22832-66c0-4e9f-89d9-c26637cc0d71",
   "metadata": {},
   "source": [
    "### Below are a few examples of evaluating arithmetic expressions in Python."
   ]
  },
  {
   "cell_type": "markdown",
   "id": "82c6afbb-f3fe-46b1-acf7-d8e119964d6c",
   "metadata": {},
   "source": [
    "- **Addition**: \\( 3 + 5 = 8 \\)\n",
    "- **Subtraction**: \\( 10 - 2 = 8 \\)\n",
    "- **Multiplication**: \\( 4 \\times 6 = 24 \\)\n",
    "- **Division**: \\( 20 \\div 4 = 5 \\)"
   ]
  },
  {
   "cell_type": "code",
   "execution_count": 2,
   "id": "94b93673-fb2f-4a63-8886-c0fc43972bb1",
   "metadata": {},
   "outputs": [
    {
     "data": {
      "text/plain": [
       "17"
      ]
     },
     "execution_count": 2,
     "metadata": {},
     "output_type": "execute_result"
    }
   ],
   "source": [
    "#This a simple arithmetic expression to mutiply then add integers.\n",
    "(3*4)+5"
   ]
  },
  {
   "cell_type": "code",
   "execution_count": 3,
   "id": "731e596b-21ab-4c32-bd9b-27d236fdc0fb",
   "metadata": {},
   "outputs": [
    {
     "data": {
      "text/plain": [
       "3.3333333333333335"
      ]
     },
     "execution_count": 3,
     "metadata": {},
     "output_type": "execute_result"
    }
   ],
   "source": [
    "#This will convert 200 minutes to hours by diving by 60.\n",
    "minutes = 200\n",
    "hours = minutes / 60\n",
    "hours"
   ]
  },
  {
   "cell_type": "markdown",
   "id": "567ee0cf-437d-4871-88d2-32fde4c28c95",
   "metadata": {},
   "source": [
    "## Author\n",
    "\n",
    "Lakshmi Holla"
   ]
  },
  {
   "cell_type": "code",
   "execution_count": null,
   "id": "e0d601d1-b784-4aad-be47-9342addd7670",
   "metadata": {},
   "outputs": [],
   "source": []
  }
 ],
 "metadata": {
  "kernelspec": {
   "display_name": "Python 3 (ipykernel)",
   "language": "python",
   "name": "python3"
  },
  "language_info": {
   "codemirror_mode": {
    "name": "ipython",
    "version": 3
   },
   "file_extension": ".py",
   "mimetype": "text/x-python",
   "name": "python",
   "nbconvert_exporter": "python",
   "pygments_lexer": "ipython3",
   "version": "3.12.8"
  }
 },
 "nbformat": 4,
 "nbformat_minor": 5
}
